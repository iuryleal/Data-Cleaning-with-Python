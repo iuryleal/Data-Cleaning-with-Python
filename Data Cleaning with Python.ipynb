{
 "cells": [
  {
   "cell_type": "code",
   "execution_count": 144,
   "id": "0eaeb2bb-190e-4c83-9246-e875d7b7a893",
   "metadata": {},
   "outputs": [],
   "source": [
    "import pandas as pd\n",
    "import numpy as np\n",
    "from datetime import datetime"
   ]
  },
  {
   "cell_type": "code",
   "execution_count": 145,
   "id": "bd3c7a94-9759-4402-b750-62a0313ffebc",
   "metadata": {},
   "outputs": [],
   "source": [
    "caminho = r\"C:\\Users\\55839\\Desktop\\DATASET PROJETO PORTFOLIO ODONTO.xlsx\"\n",
    "dCliente = pd.read_excel(\n",
    "    caminho,\n",
    "    sheet_name = \"dCliente\"\n",
    ")\n",
    "\n",
    "dProcedimento = pd.read_excel(\n",
    "    caminho,\n",
    "    sheet_name = \"dProcedimento\"\n",
    ")\n",
    "\n",
    "dVendedor = pd.read_excel(\n",
    "    caminho,\n",
    "    sheet_name = \"dVendedor\"\n",
    ")\n",
    "\n",
    "dClinica = pd.read_excel(\n",
    "    caminho,\n",
    "    sheet_name = \"dClinica\"\n",
    ")\n",
    "\n",
    "dDentista = pd.read_excel(\n",
    "    caminho,\n",
    "    sheet_name = \"dDentista\"\n",
    ")\n",
    "\n",
    "fMetas = pd.read_excel(\n",
    "    caminho,\n",
    "    sheet_name = \"fMetas\"\n",
    ")\n",
    "\n",
    "fVendas = pd.read_excel(\n",
    "    caminho,\n",
    "    sheet_name = \"fVendas\"\n",
    ")"
   ]
  },
  {
   "cell_type": "code",
   "execution_count": 146,
   "id": "e2d62282-2602-47cb-a8ba-43a841550a49",
   "metadata": {},
   "outputs": [],
   "source": [
    "#TRATANDO DCLIENTE"
   ]
  },
  {
   "cell_type": "code",
   "execution_count": 147,
   "id": "4a022e5f-4c4b-4f44-9a6b-3f1565df7dd1",
   "metadata": {},
   "outputs": [],
   "source": [
    "#Ajustando index"
   ]
  },
  {
   "cell_type": "code",
   "execution_count": 148,
   "id": "58f4cc07-21fa-4523-8924-353ed9ad9539",
   "metadata": {},
   "outputs": [],
   "source": [
    "dCliente.set_index(\"id_cliente\", inplace=True)"
   ]
  },
  {
   "cell_type": "code",
   "execution_count": 149,
   "id": "24aedecb-05bc-477e-9694-67c8bd8aa478",
   "metadata": {},
   "outputs": [],
   "source": [
    "#Colocando espaço após \"cliente\" na coluna \"nome_cliente\""
   ]
  },
  {
   "cell_type": "code",
   "execution_count": 150,
   "id": "762c6cb3-8cc7-4ca0-b882-14baa3df3b1a",
   "metadata": {},
   "outputs": [],
   "source": [
    "dCliente[\"nome_cliente\"] = dCliente[\"nome_cliente\"].str.replace(\"Cliente\", \"Cliente \")"
   ]
  },
  {
   "cell_type": "code",
   "execution_count": 151,
   "id": "fcfab544-9244-4db3-a0fa-6fcba9887887",
   "metadata": {},
   "outputs": [],
   "source": [
    "#Colocando todas letras em maiusculo"
   ]
  },
  {
   "cell_type": "code",
   "execution_count": 152,
   "id": "50165896-ea0b-4563-b628-05cc6eb7cb7c",
   "metadata": {},
   "outputs": [],
   "source": [
    "for coluna in dCliente:\n",
    "    if dCliente[coluna].dtypes == \"object\":\n",
    "        dCliente[coluna] = dCliente[coluna].str.upper()"
   ]
  },
  {
   "cell_type": "code",
   "execution_count": 153,
   "id": "e2d1d413-de4c-44ed-84f3-297d8b129999",
   "metadata": {},
   "outputs": [],
   "source": [
    "#Criando coluna \"idade\""
   ]
  },
  {
   "cell_type": "code",
   "execution_count": 154,
   "id": "05860819-5569-4a99-998b-422987f5e978",
   "metadata": {},
   "outputs": [],
   "source": [
    "hoje = datetime.now()\n",
    "dCliente[\"idade\"] = np.floor((hoje - dCliente[\"data_nascimento\"]).dt.days / 365)"
   ]
  },
  {
   "cell_type": "code",
   "execution_count": 155,
   "id": "cf25bb72-d8ec-4c70-b472-e82a94fc64bf",
   "metadata": {},
   "outputs": [],
   "source": [
    "#Alterando tipo de dado da coluna \"idade\""
   ]
  },
  {
   "cell_type": "code",
   "execution_count": 156,
   "id": "cd8d0ee5-44e0-447e-bdd7-60874e0421ef",
   "metadata": {},
   "outputs": [],
   "source": [
    "dCliente[\"idade\"] = dCliente[\"idade\"].astype(int)"
   ]
  },
  {
   "cell_type": "code",
   "execution_count": 157,
   "id": "90f91527-e918-453d-a7db-449d40d8e94c",
   "metadata": {},
   "outputs": [],
   "source": [
    "#Criando coluna \"faixa_etaria\""
   ]
  },
  {
   "cell_type": "code",
   "execution_count": 158,
   "id": "9fd81969-013e-4841-829a-18e82860ce2d",
   "metadata": {},
   "outputs": [],
   "source": [
    "faixas = [18, 24, 29, 34, 39, 44, 49, 54, 59, 64, 69 ,74]\n",
    "rotulos = [\n",
    "    \"19-24\", \n",
    "    \"25-29\",\n",
    "    \"30-34\",\n",
    "    \"35-39\",\n",
    "    \"40-44\",\n",
    "    \"45-49\",\n",
    "    \"50-54\",\n",
    "    \"55-59\",\n",
    "    \"60-64\",\n",
    "    \"65-69\",\n",
    "    \"70-74\"]"
   ]
  },
  {
   "cell_type": "code",
   "execution_count": 159,
   "id": "8607c4f4-c335-42f4-b678-118065b89c74",
   "metadata": {},
   "outputs": [],
   "source": [
    "dCliente[\"faixa_etaria\"] = pd.cut(dCliente[\"idade\"], bins=faixas, labels=rotulos, right=True)"
   ]
  },
  {
   "cell_type": "code",
   "execution_count": 160,
   "id": "c75d1e7b-523c-4c4a-8165-1727c2ffa8b9",
   "metadata": {},
   "outputs": [],
   "source": [
    "#Alterando ordem das colunas"
   ]
  },
  {
   "cell_type": "code",
   "execution_count": 161,
   "id": "62d69c69-aab2-48e6-b6ed-37dd200a874d",
   "metadata": {},
   "outputs": [],
   "source": [
    "dCliente = dCliente.reindex(\n",
    "    columns=[\"nome_cliente\", \"sexo\", \"data_nascimento\", \"idade\", \"faixa_etaria\", \"uf\", \"cidade\"]\n",
    ")"
   ]
  },
  {
   "cell_type": "code",
   "execution_count": 162,
   "id": "5fab5ffd-bb25-4653-ba8c-63f44b92d2af",
   "metadata": {},
   "outputs": [],
   "source": [
    "#Checando conformidade de tipo de dados"
   ]
  },
  {
   "cell_type": "code",
   "execution_count": 163,
   "id": "2403b957-b74a-43d8-b0b9-3c3263855ff2",
   "metadata": {},
   "outputs": [
    {
     "data": {
      "text/plain": [
       "nome_cliente               object\n",
       "sexo                       object\n",
       "data_nascimento    datetime64[ns]\n",
       "idade                       int32\n",
       "faixa_etaria             category\n",
       "uf                         object\n",
       "cidade                     object\n",
       "dtype: object"
      ]
     },
     "execution_count": 163,
     "metadata": {},
     "output_type": "execute_result"
    }
   ],
   "source": [
    "dCliente.dtypes"
   ]
  },
  {
   "cell_type": "code",
   "execution_count": 164,
   "id": "23018645-6f9a-4cda-afcd-3f178dcd6b30",
   "metadata": {},
   "outputs": [],
   "source": [
    "#Checando valores nulos"
   ]
  },
  {
   "cell_type": "code",
   "execution_count": 165,
   "id": "387630c0-c535-4859-acbe-5ba9cfa4ef4f",
   "metadata": {},
   "outputs": [
    {
     "data": {
      "text/plain": [
       "nome_cliente       0\n",
       "sexo               0\n",
       "data_nascimento    0\n",
       "idade              0\n",
       "faixa_etaria       0\n",
       "uf                 0\n",
       "cidade             0\n",
       "dtype: int64"
      ]
     },
     "execution_count": 165,
     "metadata": {},
     "output_type": "execute_result"
    }
   ],
   "source": [
    "dCliente.isna().sum()"
   ]
  },
  {
   "cell_type": "code",
   "execution_count": 166,
   "id": "750b1beb-62bb-4674-9778-01791f99d5ba",
   "metadata": {},
   "outputs": [],
   "source": [
    "#Checando valores duplicados"
   ]
  },
  {
   "cell_type": "code",
   "execution_count": 167,
   "id": "eeaf2111-1de7-400b-a4bc-a3b363285269",
   "metadata": {},
   "outputs": [
    {
     "data": {
      "text/plain": [
       "0"
      ]
     },
     "execution_count": 167,
     "metadata": {},
     "output_type": "execute_result"
    }
   ],
   "source": [
    "dCliente.duplicated().sum()"
   ]
  },
  {
   "cell_type": "code",
   "execution_count": 168,
   "id": "02b45ae0-8e06-4c8d-b348-762df091bb60",
   "metadata": {},
   "outputs": [
    {
     "data": {
      "text/html": [
       "<div>\n",
       "<style scoped>\n",
       "    .dataframe tbody tr th:only-of-type {\n",
       "        vertical-align: middle;\n",
       "    }\n",
       "\n",
       "    .dataframe tbody tr th {\n",
       "        vertical-align: top;\n",
       "    }\n",
       "\n",
       "    .dataframe thead th {\n",
       "        text-align: right;\n",
       "    }\n",
       "</style>\n",
       "<table border=\"1\" class=\"dataframe\">\n",
       "  <thead>\n",
       "    <tr style=\"text-align: right;\">\n",
       "      <th></th>\n",
       "      <th>nome_cliente</th>\n",
       "      <th>sexo</th>\n",
       "      <th>data_nascimento</th>\n",
       "      <th>idade</th>\n",
       "      <th>faixa_etaria</th>\n",
       "      <th>uf</th>\n",
       "      <th>cidade</th>\n",
       "    </tr>\n",
       "    <tr>\n",
       "      <th>id_cliente</th>\n",
       "      <th></th>\n",
       "      <th></th>\n",
       "      <th></th>\n",
       "      <th></th>\n",
       "      <th></th>\n",
       "      <th></th>\n",
       "      <th></th>\n",
       "    </tr>\n",
       "  </thead>\n",
       "  <tbody>\n",
       "    <tr>\n",
       "      <th>1</th>\n",
       "      <td>CLIENTE 1</td>\n",
       "      <td>F</td>\n",
       "      <td>1955-05-05</td>\n",
       "      <td>68</td>\n",
       "      <td>65-69</td>\n",
       "      <td>PB</td>\n",
       "      <td>MACEIÓ</td>\n",
       "    </tr>\n",
       "    <tr>\n",
       "      <th>2</th>\n",
       "      <td>CLIENTE 2</td>\n",
       "      <td>M</td>\n",
       "      <td>2000-11-23</td>\n",
       "      <td>23</td>\n",
       "      <td>19-24</td>\n",
       "      <td>PB</td>\n",
       "      <td>CAMPINA GRANDE</td>\n",
       "    </tr>\n",
       "    <tr>\n",
       "      <th>3</th>\n",
       "      <td>CLIENTE 3</td>\n",
       "      <td>F</td>\n",
       "      <td>1953-04-20</td>\n",
       "      <td>71</td>\n",
       "      <td>70-74</td>\n",
       "      <td>PB</td>\n",
       "      <td>CAMPINA GRANDE</td>\n",
       "    </tr>\n",
       "    <tr>\n",
       "      <th>4</th>\n",
       "      <td>CLIENTE 4</td>\n",
       "      <td>F</td>\n",
       "      <td>2003-01-23</td>\n",
       "      <td>21</td>\n",
       "      <td>19-24</td>\n",
       "      <td>RN</td>\n",
       "      <td>SALVADOR</td>\n",
       "    </tr>\n",
       "    <tr>\n",
       "      <th>5</th>\n",
       "      <td>CLIENTE 5</td>\n",
       "      <td>F</td>\n",
       "      <td>1980-09-16</td>\n",
       "      <td>43</td>\n",
       "      <td>40-44</td>\n",
       "      <td>MA</td>\n",
       "      <td>NATAL</td>\n",
       "    </tr>\n",
       "  </tbody>\n",
       "</table>\n",
       "</div>"
      ],
      "text/plain": [
       "           nome_cliente sexo data_nascimento  idade faixa_etaria  uf  \\\n",
       "id_cliente                                                             \n",
       "1             CLIENTE 1    F      1955-05-05     68        65-69  PB   \n",
       "2             CLIENTE 2    M      2000-11-23     23        19-24  PB   \n",
       "3             CLIENTE 3    F      1953-04-20     71        70-74  PB   \n",
       "4             CLIENTE 4    F      2003-01-23     21        19-24  RN   \n",
       "5             CLIENTE 5    F      1980-09-16     43        40-44  MA   \n",
       "\n",
       "                    cidade  \n",
       "id_cliente                  \n",
       "1                   MACEIÓ  \n",
       "2           CAMPINA GRANDE  \n",
       "3           CAMPINA GRANDE  \n",
       "4                 SALVADOR  \n",
       "5                    NATAL  "
      ]
     },
     "execution_count": 168,
     "metadata": {},
     "output_type": "execute_result"
    }
   ],
   "source": [
    "dCliente.head(5)"
   ]
  },
  {
   "cell_type": "code",
   "execution_count": 169,
   "id": "a82fb6dd-f228-41e7-b31e-d010b3c9ee81",
   "metadata": {},
   "outputs": [],
   "source": [
    "# -- dCLiente FINALIZADO --"
   ]
  },
  {
   "cell_type": "code",
   "execution_count": 170,
   "id": "7679fe94-db27-4abb-b4fd-e61262f39157",
   "metadata": {},
   "outputs": [],
   "source": [
    "#TRATANDO DPROCEDIMENTO"
   ]
  },
  {
   "cell_type": "code",
   "execution_count": 171,
   "id": "291b5392-0229-416b-9eb6-da5fa7709986",
   "metadata": {},
   "outputs": [],
   "source": [
    "#Ajustando indices"
   ]
  },
  {
   "cell_type": "code",
   "execution_count": 172,
   "id": "ac3fdb33-6545-4492-8b10-20724a8c26b7",
   "metadata": {},
   "outputs": [],
   "source": [
    "dProcedimento.set_index(\"id_produto\", inplace=True)"
   ]
  },
  {
   "cell_type": "code",
   "execution_count": 173,
   "id": "f8dadb7e-3580-4c13-b394-b343267c7410",
   "metadata": {},
   "outputs": [],
   "source": [
    "#Colocando letras em maiusculo"
   ]
  },
  {
   "cell_type": "code",
   "execution_count": 174,
   "id": "18fa2947-ced8-4810-90f1-b89ed71b2d9e",
   "metadata": {},
   "outputs": [],
   "source": [
    "for coluna in dProcedimento:\n",
    "    if dProcedimento[coluna].dtypes == \"object\":\n",
    "        dProcedimento[coluna] = dProcedimento[coluna].str.upper()"
   ]
  },
  {
   "cell_type": "code",
   "execution_count": 175,
   "id": "7f9e0b44-97eb-4d5a-957f-03a923446fc6",
   "metadata": {},
   "outputs": [],
   "source": [
    "#Ajustando ordem de visualização das colunas"
   ]
  },
  {
   "cell_type": "code",
   "execution_count": 176,
   "id": "eb38038f-6cfc-4b2f-aafb-c0f9d7dc9a24",
   "metadata": {},
   "outputs": [],
   "source": [
    "dProcedimento = dProcedimento.reindex(\n",
    "    columns=[\"especialidade\", \"nome_produto\", \"preco_unitario\"]\n",
    ")"
   ]
  },
  {
   "cell_type": "code",
   "execution_count": 177,
   "id": "09c2a938-5d6a-4f59-a2aa-993a502e4335",
   "metadata": {},
   "outputs": [],
   "source": [
    "#Checando valores nulos"
   ]
  },
  {
   "cell_type": "code",
   "execution_count": 178,
   "id": "bd863a82-6826-4331-b028-3d7d0786cc92",
   "metadata": {},
   "outputs": [
    {
     "data": {
      "text/plain": [
       "especialidade     0\n",
       "nome_produto      0\n",
       "preco_unitario    0\n",
       "dtype: int64"
      ]
     },
     "execution_count": 178,
     "metadata": {},
     "output_type": "execute_result"
    }
   ],
   "source": [
    "dProcedimento.isna().sum()"
   ]
  },
  {
   "cell_type": "code",
   "execution_count": 179,
   "id": "198b5649-2892-4fe7-ab15-0f5d1a504ede",
   "metadata": {},
   "outputs": [],
   "source": [
    "#Checando valores duplicados"
   ]
  },
  {
   "cell_type": "code",
   "execution_count": 180,
   "id": "40d6f4e5-b41c-430f-ac34-d7b3772c82aa",
   "metadata": {},
   "outputs": [
    {
     "data": {
      "text/plain": [
       "0"
      ]
     },
     "execution_count": 180,
     "metadata": {},
     "output_type": "execute_result"
    }
   ],
   "source": [
    "dProcedimento.duplicated().sum()"
   ]
  },
  {
   "cell_type": "code",
   "execution_count": 181,
   "id": "b9323233-778c-425b-896e-d83e7d6e30a5",
   "metadata": {},
   "outputs": [],
   "source": [
    "#Checando conformidade de tipo de dados"
   ]
  },
  {
   "cell_type": "code",
   "execution_count": 182,
   "id": "b7452c7f-9a16-4c35-afd4-5b440f7bf969",
   "metadata": {},
   "outputs": [
    {
     "data": {
      "text/plain": [
       "especialidade     object\n",
       "nome_produto      object\n",
       "preco_unitario     int64\n",
       "dtype: object"
      ]
     },
     "execution_count": 182,
     "metadata": {},
     "output_type": "execute_result"
    }
   ],
   "source": [
    "dProcedimento.dtypes"
   ]
  },
  {
   "cell_type": "code",
   "execution_count": 183,
   "id": "0cdf4c0d-a9ca-46bc-8fcc-7b170db80e37",
   "metadata": {},
   "outputs": [],
   "source": [
    "#Alterando tipo de dado da coluna \"preco_unitario\" para float"
   ]
  },
  {
   "cell_type": "code",
   "execution_count": 184,
   "id": "24006f97-d42b-477d-a984-dee36daf8dea",
   "metadata": {},
   "outputs": [],
   "source": [
    "dProcedimento[\"preco_unitario\"] = dProcedimento[\"preco_unitario\"].astype(float)"
   ]
  },
  {
   "cell_type": "code",
   "execution_count": 185,
   "id": "79a8c1fd-095f-4e0a-babe-f8010b1979ac",
   "metadata": {},
   "outputs": [
    {
     "data": {
      "text/html": [
       "<div>\n",
       "<style scoped>\n",
       "    .dataframe tbody tr th:only-of-type {\n",
       "        vertical-align: middle;\n",
       "    }\n",
       "\n",
       "    .dataframe tbody tr th {\n",
       "        vertical-align: top;\n",
       "    }\n",
       "\n",
       "    .dataframe thead th {\n",
       "        text-align: right;\n",
       "    }\n",
       "</style>\n",
       "<table border=\"1\" class=\"dataframe\">\n",
       "  <thead>\n",
       "    <tr style=\"text-align: right;\">\n",
       "      <th></th>\n",
       "      <th>especialidade</th>\n",
       "      <th>nome_produto</th>\n",
       "      <th>preco_unitario</th>\n",
       "    </tr>\n",
       "    <tr>\n",
       "      <th>id_produto</th>\n",
       "      <th></th>\n",
       "      <th></th>\n",
       "      <th></th>\n",
       "    </tr>\n",
       "  </thead>\n",
       "  <tbody>\n",
       "    <tr>\n",
       "      <th>1</th>\n",
       "      <td>PERIODONTIA</td>\n",
       "      <td>PROFILAXIA</td>\n",
       "      <td>110.0</td>\n",
       "    </tr>\n",
       "    <tr>\n",
       "      <th>2</th>\n",
       "      <td>PERIODONTIA</td>\n",
       "      <td>PROFILAXIA + FLÚOR</td>\n",
       "      <td>150.0</td>\n",
       "    </tr>\n",
       "    <tr>\n",
       "      <th>3</th>\n",
       "      <td>PERIODONTIA</td>\n",
       "      <td>RASPAGEM CORONORADICULAR ARCADA</td>\n",
       "      <td>100.0</td>\n",
       "    </tr>\n",
       "    <tr>\n",
       "      <th>4</th>\n",
       "      <td>DENTÍSTICA</td>\n",
       "      <td>RESTAURAÇÃO 1 FACE C/ RESINA</td>\n",
       "      <td>115.0</td>\n",
       "    </tr>\n",
       "    <tr>\n",
       "      <th>5</th>\n",
       "      <td>DENTÍSTICA</td>\n",
       "      <td>RESTAURAÇÃO 2 FACES C/ RESINA</td>\n",
       "      <td>155.0</td>\n",
       "    </tr>\n",
       "  </tbody>\n",
       "</table>\n",
       "</div>"
      ],
      "text/plain": [
       "           especialidade                     nome_produto  preco_unitario\n",
       "id_produto                                                               \n",
       "1            PERIODONTIA                       PROFILAXIA           110.0\n",
       "2            PERIODONTIA               PROFILAXIA + FLÚOR           150.0\n",
       "3            PERIODONTIA  RASPAGEM CORONORADICULAR ARCADA           100.0\n",
       "4             DENTÍSTICA     RESTAURAÇÃO 1 FACE C/ RESINA           115.0\n",
       "5             DENTÍSTICA    RESTAURAÇÃO 2 FACES C/ RESINA           155.0"
      ]
     },
     "execution_count": 185,
     "metadata": {},
     "output_type": "execute_result"
    }
   ],
   "source": [
    "dProcedimento.head(5)"
   ]
  },
  {
   "cell_type": "code",
   "execution_count": 186,
   "id": "e0d82821-56e5-4ba0-9b6d-a7303cd72f79",
   "metadata": {},
   "outputs": [],
   "source": [
    "## - dProcedimento FINALIZADA -- "
   ]
  },
  {
   "cell_type": "code",
   "execution_count": 187,
   "id": "91d5f77e-29a7-42ef-b520-67a3cff5bbfd",
   "metadata": {},
   "outputs": [],
   "source": [
    "#TRATANDO dVendedor"
   ]
  },
  {
   "cell_type": "code",
   "execution_count": 188,
   "id": "e3d59293-4412-4084-83ae-65e1a611e0aa",
   "metadata": {},
   "outputs": [],
   "source": [
    "#Ajustando índice"
   ]
  },
  {
   "cell_type": "code",
   "execution_count": 189,
   "id": "1a35ae16-0431-48bd-acf0-814d535bb3d5",
   "metadata": {},
   "outputs": [],
   "source": [
    "dVendedor.set_index(\"id_vendedor\", inplace=True)"
   ]
  },
  {
   "cell_type": "code",
   "execution_count": 190,
   "id": "cadf5da0-2b34-4731-a198-48eb22e441fc",
   "metadata": {},
   "outputs": [],
   "source": [
    "#Colocando letras em maiusculo"
   ]
  },
  {
   "cell_type": "code",
   "execution_count": 191,
   "id": "286f80da-74a3-4afb-b28d-63d7957496c5",
   "metadata": {},
   "outputs": [],
   "source": [
    "for coluna in dVendedor:\n",
    "    if dVendedor[coluna].dtypes == \"object\":\n",
    "        dVendedor[coluna] = dVendedor[coluna].str.upper()"
   ]
  },
  {
   "cell_type": "code",
   "execution_count": 192,
   "id": "7d535cdf-0992-4b37-811c-38ab96ddb609",
   "metadata": {},
   "outputs": [],
   "source": [
    "#Checando valores nulos"
   ]
  },
  {
   "cell_type": "code",
   "execution_count": 193,
   "id": "5fdbc5a6-f540-4bd5-83a0-20d528a9df5b",
   "metadata": {},
   "outputs": [
    {
     "data": {
      "text/plain": [
       "nome_vendedor    0\n",
       "nome_gerente     0\n",
       "gerente_id       0\n",
       "id_clinica       0\n",
       "url_vendedor     0\n",
       "dtype: int64"
      ]
     },
     "execution_count": 193,
     "metadata": {},
     "output_type": "execute_result"
    }
   ],
   "source": [
    "dVendedor.isna().sum()"
   ]
  },
  {
   "cell_type": "code",
   "execution_count": 194,
   "id": "fd91e20e-74b9-4ce4-8320-a99623cedee2",
   "metadata": {},
   "outputs": [],
   "source": [
    "#Checando valores duplicados"
   ]
  },
  {
   "cell_type": "code",
   "execution_count": 195,
   "id": "cdfc1d0b-11b0-41f6-bdbe-ea4c0386cb3d",
   "metadata": {},
   "outputs": [
    {
     "data": {
      "text/plain": [
       "0"
      ]
     },
     "execution_count": 195,
     "metadata": {},
     "output_type": "execute_result"
    }
   ],
   "source": [
    "dVendedor.duplicated().sum()"
   ]
  },
  {
   "cell_type": "code",
   "execution_count": 196,
   "id": "581f0564-c54c-4a6c-991f-086fa8d17be5",
   "metadata": {},
   "outputs": [],
   "source": [
    "#Checando conformidade de tipos de dados"
   ]
  },
  {
   "cell_type": "code",
   "execution_count": 197,
   "id": "c399d8d9-e7d0-4456-920e-f5448e4cfec7",
   "metadata": {},
   "outputs": [
    {
     "data": {
      "text/plain": [
       "nome_vendedor    object\n",
       "nome_gerente     object\n",
       "gerente_id        int64\n",
       "id_clinica        int64\n",
       "url_vendedor     object\n",
       "dtype: object"
      ]
     },
     "execution_count": 197,
     "metadata": {},
     "output_type": "execute_result"
    }
   ],
   "source": [
    "dVendedor.dtypes"
   ]
  },
  {
   "cell_type": "code",
   "execution_count": 198,
   "id": "349e0723-7e9a-4b72-8ac6-4bd09600ceed",
   "metadata": {},
   "outputs": [
    {
     "data": {
      "text/html": [
       "<div>\n",
       "<style scoped>\n",
       "    .dataframe tbody tr th:only-of-type {\n",
       "        vertical-align: middle;\n",
       "    }\n",
       "\n",
       "    .dataframe tbody tr th {\n",
       "        vertical-align: top;\n",
       "    }\n",
       "\n",
       "    .dataframe thead th {\n",
       "        text-align: right;\n",
       "    }\n",
       "</style>\n",
       "<table border=\"1\" class=\"dataframe\">\n",
       "  <thead>\n",
       "    <tr style=\"text-align: right;\">\n",
       "      <th></th>\n",
       "      <th>nome_vendedor</th>\n",
       "      <th>nome_gerente</th>\n",
       "      <th>gerente_id</th>\n",
       "      <th>id_clinica</th>\n",
       "      <th>url_vendedor</th>\n",
       "    </tr>\n",
       "    <tr>\n",
       "      <th>id_vendedor</th>\n",
       "      <th></th>\n",
       "      <th></th>\n",
       "      <th></th>\n",
       "      <th></th>\n",
       "      <th></th>\n",
       "    </tr>\n",
       "  </thead>\n",
       "  <tbody>\n",
       "    <tr>\n",
       "      <th>1</th>\n",
       "      <td>CATARINA MENDES</td>\n",
       "      <td>SOFIA SANTOS</td>\n",
       "      <td>1</td>\n",
       "      <td>1</td>\n",
       "      <td>HTTPS://1.BP.BLOGSPOT.COM/-2ZIRGQO4_MK/XI9TFLI...</td>\n",
       "    </tr>\n",
       "    <tr>\n",
       "      <th>2</th>\n",
       "      <td>RAFAEL OLIVEIRA</td>\n",
       "      <td>SOFIA SANTOS</td>\n",
       "      <td>1</td>\n",
       "      <td>1</td>\n",
       "      <td>HTTPS://1.BP.BLOGSPOT.COM/-BOHPSOQ6GG0/XI9TGAG...</td>\n",
       "    </tr>\n",
       "    <tr>\n",
       "      <th>3</th>\n",
       "      <td>THIAGO SANTOS</td>\n",
       "      <td>LUCAS PEREIRA</td>\n",
       "      <td>2</td>\n",
       "      <td>2</td>\n",
       "      <td>HTTPS://292AA00292A014763D1B-96A84504AED2B25FC...</td>\n",
       "    </tr>\n",
       "    <tr>\n",
       "      <th>4</th>\n",
       "      <td>RENAN PEREIRA</td>\n",
       "      <td>LUCAS PEREIRA</td>\n",
       "      <td>2</td>\n",
       "      <td>2</td>\n",
       "      <td>HTTPS://1.BP.BLOGSPOT.COM/-MNTHYUGBW7W/XI9TF3K...</td>\n",
       "    </tr>\n",
       "    <tr>\n",
       "      <th>5</th>\n",
       "      <td>MATIAS RODRIGUES</td>\n",
       "      <td>LARISSA SOUZA</td>\n",
       "      <td>3</td>\n",
       "      <td>3</td>\n",
       "      <td>HTTPS://292AA00292A014763D1B-96A84504AED2B25FC...</td>\n",
       "    </tr>\n",
       "  </tbody>\n",
       "</table>\n",
       "</div>"
      ],
      "text/plain": [
       "                nome_vendedor   nome_gerente  gerente_id  id_clinica  \\\n",
       "id_vendedor                                                            \n",
       "1             CATARINA MENDES   SOFIA SANTOS           1           1   \n",
       "2             RAFAEL OLIVEIRA   SOFIA SANTOS           1           1   \n",
       "3               THIAGO SANTOS  LUCAS PEREIRA           2           2   \n",
       "4               RENAN PEREIRA  LUCAS PEREIRA           2           2   \n",
       "5            MATIAS RODRIGUES  LARISSA SOUZA           3           3   \n",
       "\n",
       "                                                  url_vendedor  \n",
       "id_vendedor                                                     \n",
       "1            HTTPS://1.BP.BLOGSPOT.COM/-2ZIRGQO4_MK/XI9TFLI...  \n",
       "2            HTTPS://1.BP.BLOGSPOT.COM/-BOHPSOQ6GG0/XI9TGAG...  \n",
       "3            HTTPS://292AA00292A014763D1B-96A84504AED2B25FC...  \n",
       "4            HTTPS://1.BP.BLOGSPOT.COM/-MNTHYUGBW7W/XI9TF3K...  \n",
       "5            HTTPS://292AA00292A014763D1B-96A84504AED2B25FC...  "
      ]
     },
     "execution_count": 198,
     "metadata": {},
     "output_type": "execute_result"
    }
   ],
   "source": [
    "dVendedor.head(5)"
   ]
  },
  {
   "cell_type": "code",
   "execution_count": 199,
   "id": "ebdca760-aee0-4bf4-b7ee-e34a26e9fdd3",
   "metadata": {},
   "outputs": [],
   "source": [
    "# -- dVendedor FINALIZADA --"
   ]
  },
  {
   "cell_type": "code",
   "execution_count": 200,
   "id": "fd290fdd-622c-474b-ab3a-bf68099560c2",
   "metadata": {},
   "outputs": [],
   "source": [
    "#TRATANDO DCLINICA"
   ]
  },
  {
   "cell_type": "code",
   "execution_count": 201,
   "id": "1eee3b52-8a22-489b-9841-d7ca22c84b28",
   "metadata": {},
   "outputs": [],
   "source": [
    "#Ajustando índice"
   ]
  },
  {
   "cell_type": "code",
   "execution_count": 202,
   "id": "c7cc7ff9-af3c-4740-a442-f2dbadc8ffc8",
   "metadata": {},
   "outputs": [],
   "source": [
    "dClinica.set_index(\"id_clinica\", inplace=True)"
   ]
  },
  {
   "cell_type": "code",
   "execution_count": 203,
   "id": "eb06febd-0c09-4bf8-b9b7-8abe8781aed4",
   "metadata": {},
   "outputs": [],
   "source": [
    "#Colocando letras em maiusculo"
   ]
  },
  {
   "cell_type": "code",
   "execution_count": 204,
   "id": "6dfee4f7-cda5-4610-aadd-6c795c10dc17",
   "metadata": {},
   "outputs": [],
   "source": [
    "for coluna in dClinica:\n",
    "    if dClinica[coluna].dtypes == \"object\":\n",
    "        dClinica[coluna] = dClinica[coluna].str.upper()"
   ]
  },
  {
   "cell_type": "code",
   "execution_count": 205,
   "id": "10b1fa7c-2628-4e31-a3f3-231657cf7bbc",
   "metadata": {},
   "outputs": [],
   "source": [
    "#Separando coluna de endereco em duas outras - rua e numero"
   ]
  },
  {
   "cell_type": "code",
   "execution_count": 206,
   "id": "ca6cdb63-e155-47f1-9129-141cfa7d62e3",
   "metadata": {},
   "outputs": [],
   "source": [
    "dClinica[\"rua\"] = dClinica[\"endereco\"].str.split(pat=\",\", expand=True)[0]"
   ]
  },
  {
   "cell_type": "code",
   "execution_count": 207,
   "id": "78245f55-ac4a-4de7-a192-db6ae7bf4660",
   "metadata": {},
   "outputs": [],
   "source": [
    "dClinica[\"numero\"] = dClinica[\"endereco\"].str.split(pat=\",\", expand=True)[1]"
   ]
  },
  {
   "cell_type": "code",
   "execution_count": 208,
   "id": "c350840c-2fbd-4bfc-8954-41167ab32950",
   "metadata": {},
   "outputs": [],
   "source": [
    "#Excluindo coluna endereco "
   ]
  },
  {
   "cell_type": "code",
   "execution_count": 209,
   "id": "93ed30fe-ef5e-4752-9920-6996b09fc7e7",
   "metadata": {},
   "outputs": [],
   "source": [
    "dClinica.drop(columns=\"endereco\", inplace=True)"
   ]
  },
  {
   "cell_type": "code",
   "execution_count": 210,
   "id": "3891437d-3272-4e2b-9eaf-1827df58065b",
   "metadata": {},
   "outputs": [],
   "source": [
    "#Ajustando ordem de visualização de todas as colunas"
   ]
  },
  {
   "cell_type": "code",
   "execution_count": 211,
   "id": "50374385-3471-4f96-b2d4-1f5fcb3e590e",
   "metadata": {},
   "outputs": [],
   "source": [
    "dClinica = dClinica.reindex(\n",
    "    columns=[\"uf\", \"cidade\", \"rua\", \"numero\", \"tamanho_clinica_m2\"]\n",
    ")"
   ]
  },
  {
   "cell_type": "code",
   "execution_count": 212,
   "id": "c237b4d6-9b4b-419a-bdc3-6770a2c73528",
   "metadata": {},
   "outputs": [],
   "source": [
    "#Checando conformidade de tipo de dados"
   ]
  },
  {
   "cell_type": "code",
   "execution_count": 213,
   "id": "f7746e24-d6ac-480e-a5c7-787d2a41544f",
   "metadata": {},
   "outputs": [
    {
     "data": {
      "text/plain": [
       "uf                    object\n",
       "cidade                object\n",
       "rua                   object\n",
       "numero                object\n",
       "tamanho_clinica_m2     int64\n",
       "dtype: object"
      ]
     },
     "execution_count": 213,
     "metadata": {},
     "output_type": "execute_result"
    }
   ],
   "source": [
    "dClinica.dtypes"
   ]
  },
  {
   "cell_type": "code",
   "execution_count": 214,
   "id": "49afb49f-e7ec-4517-9a10-dbf982b6d4b8",
   "metadata": {},
   "outputs": [],
   "source": [
    "#Alterando tipo de dado da coluna \"numero\" para int"
   ]
  },
  {
   "cell_type": "code",
   "execution_count": 215,
   "id": "0d58eb8f-3c37-41bc-9b2a-16f588003273",
   "metadata": {},
   "outputs": [],
   "source": [
    "dClinica[\"numero\"] = dClinica[\"numero\"].astype(\"int64\")"
   ]
  },
  {
   "cell_type": "code",
   "execution_count": 216,
   "id": "7e10fe9f-490e-4444-a0c3-dfd1f13b2d16",
   "metadata": {},
   "outputs": [
    {
     "data": {
      "text/plain": [
       "uf                    object\n",
       "cidade                object\n",
       "rua                   object\n",
       "numero                 int64\n",
       "tamanho_clinica_m2     int64\n",
       "dtype: object"
      ]
     },
     "execution_count": 216,
     "metadata": {},
     "output_type": "execute_result"
    }
   ],
   "source": [
    "dClinica.dtypes"
   ]
  },
  {
   "cell_type": "code",
   "execution_count": 217,
   "id": "dcf6d644-d0c6-4193-b085-cf5e24643b89",
   "metadata": {},
   "outputs": [],
   "source": [
    "#Checando dados nulos"
   ]
  },
  {
   "cell_type": "code",
   "execution_count": 218,
   "id": "0fadf087-b1be-49ef-98a0-c83d96b9fb51",
   "metadata": {},
   "outputs": [
    {
     "data": {
      "text/plain": [
       "uf                    0\n",
       "cidade                0\n",
       "rua                   0\n",
       "numero                0\n",
       "tamanho_clinica_m2    0\n",
       "dtype: int64"
      ]
     },
     "execution_count": 218,
     "metadata": {},
     "output_type": "execute_result"
    }
   ],
   "source": [
    "dClinica.isna().sum()"
   ]
  },
  {
   "cell_type": "code",
   "execution_count": 219,
   "id": "2a0d2bfc-04ab-426e-b02d-c7de25a64257",
   "metadata": {},
   "outputs": [],
   "source": [
    "#Checando dados duplicados"
   ]
  },
  {
   "cell_type": "code",
   "execution_count": 220,
   "id": "aa87cda9-9243-4053-a97b-60abf1afb3df",
   "metadata": {},
   "outputs": [
    {
     "data": {
      "text/plain": [
       "0"
      ]
     },
     "execution_count": 220,
     "metadata": {},
     "output_type": "execute_result"
    }
   ],
   "source": [
    "dClinica.duplicated().sum()"
   ]
  },
  {
   "cell_type": "code",
   "execution_count": 221,
   "id": "b11b4911-56fa-4cce-92a5-0677e78b9c6d",
   "metadata": {},
   "outputs": [
    {
     "data": {
      "text/html": [
       "<div>\n",
       "<style scoped>\n",
       "    .dataframe tbody tr th:only-of-type {\n",
       "        vertical-align: middle;\n",
       "    }\n",
       "\n",
       "    .dataframe tbody tr th {\n",
       "        vertical-align: top;\n",
       "    }\n",
       "\n",
       "    .dataframe thead th {\n",
       "        text-align: right;\n",
       "    }\n",
       "</style>\n",
       "<table border=\"1\" class=\"dataframe\">\n",
       "  <thead>\n",
       "    <tr style=\"text-align: right;\">\n",
       "      <th></th>\n",
       "      <th>uf</th>\n",
       "      <th>cidade</th>\n",
       "      <th>rua</th>\n",
       "      <th>numero</th>\n",
       "      <th>tamanho_clinica_m2</th>\n",
       "    </tr>\n",
       "    <tr>\n",
       "      <th>id_clinica</th>\n",
       "      <th></th>\n",
       "      <th></th>\n",
       "      <th></th>\n",
       "      <th></th>\n",
       "      <th></th>\n",
       "    </tr>\n",
       "  </thead>\n",
       "  <tbody>\n",
       "    <tr>\n",
       "      <th>1</th>\n",
       "      <td>RN</td>\n",
       "      <td>NATAL</td>\n",
       "      <td>RUA DAS PALMEIRAS</td>\n",
       "      <td>123</td>\n",
       "      <td>300</td>\n",
       "    </tr>\n",
       "    <tr>\n",
       "      <th>2</th>\n",
       "      <td>AL</td>\n",
       "      <td>MACEIÓ</td>\n",
       "      <td>AV. DOS COQUEIROS</td>\n",
       "      <td>45</td>\n",
       "      <td>200</td>\n",
       "    </tr>\n",
       "    <tr>\n",
       "      <th>3</th>\n",
       "      <td>PB</td>\n",
       "      <td>JOÃO PESSOA</td>\n",
       "      <td>PRAÇA DA LIBERDADE</td>\n",
       "      <td>1</td>\n",
       "      <td>400</td>\n",
       "    </tr>\n",
       "    <tr>\n",
       "      <th>4</th>\n",
       "      <td>SE</td>\n",
       "      <td>ARACAJU</td>\n",
       "      <td>RUA DA SAÚDE</td>\n",
       "      <td>67</td>\n",
       "      <td>150</td>\n",
       "    </tr>\n",
       "    <tr>\n",
       "      <th>5</th>\n",
       "      <td>PI</td>\n",
       "      <td>TERESINA</td>\n",
       "      <td>AV. DAS MANGUEIRAS</td>\n",
       "      <td>89</td>\n",
       "      <td>250</td>\n",
       "    </tr>\n",
       "  </tbody>\n",
       "</table>\n",
       "</div>"
      ],
      "text/plain": [
       "            uf       cidade                 rua  numero  tamanho_clinica_m2\n",
       "id_clinica                                                                 \n",
       "1           RN        NATAL   RUA DAS PALMEIRAS     123                 300\n",
       "2           AL       MACEIÓ   AV. DOS COQUEIROS      45                 200\n",
       "3           PB  JOÃO PESSOA  PRAÇA DA LIBERDADE       1                 400\n",
       "4           SE      ARACAJU        RUA DA SAÚDE      67                 150\n",
       "5           PI     TERESINA  AV. DAS MANGUEIRAS      89                 250"
      ]
     },
     "execution_count": 221,
     "metadata": {},
     "output_type": "execute_result"
    }
   ],
   "source": [
    "dClinica.head(5)"
   ]
  },
  {
   "cell_type": "code",
   "execution_count": 222,
   "id": "be914c7c-8d49-4bc0-a76d-6c4050ce1b2e",
   "metadata": {},
   "outputs": [],
   "source": [
    "# -- dClinica FINALIZADA --"
   ]
  },
  {
   "cell_type": "code",
   "execution_count": 223,
   "id": "75e6af7e-8409-42c3-8382-109cadbdb7dc",
   "metadata": {},
   "outputs": [],
   "source": [
    "#TRATANDO DDENTISTA"
   ]
  },
  {
   "cell_type": "code",
   "execution_count": 224,
   "id": "4e04fd4f-2ca8-4048-ae14-fe2ae6fae92e",
   "metadata": {},
   "outputs": [],
   "source": [
    "#Ajustando indice"
   ]
  },
  {
   "cell_type": "code",
   "execution_count": 225,
   "id": "9a91f3d2-a078-40d9-b86d-2a665732b035",
   "metadata": {},
   "outputs": [],
   "source": [
    "dDentista.set_index(\"id_dentista\", inplace=True)"
   ]
  },
  {
   "cell_type": "code",
   "execution_count": 226,
   "id": "bf796707-1451-4471-b07b-28916e3f5e0d",
   "metadata": {},
   "outputs": [],
   "source": [
    "#Colocando letras em maiusculo"
   ]
  },
  {
   "cell_type": "code",
   "execution_count": 227,
   "id": "42a4310c-4b7c-4b20-baa3-9fb9134b1321",
   "metadata": {},
   "outputs": [],
   "source": [
    "for coluna in dDentista:\n",
    "    if dDentista[coluna].dtypes == \"object\":\n",
    "        dDentista[coluna] = dDentista[coluna].str.upper()"
   ]
  },
  {
   "cell_type": "code",
   "execution_count": 228,
   "id": "f4cec72e-3205-4b71-aa51-4d9c115b53ac",
   "metadata": {},
   "outputs": [],
   "source": [
    "#Calculando idade dentista"
   ]
  },
  {
   "cell_type": "code",
   "execution_count": 229,
   "id": "b652fc7a-b8bc-4265-b24c-a1c9cefde8c0",
   "metadata": {},
   "outputs": [],
   "source": [
    "hoje = datetime.now()"
   ]
  },
  {
   "cell_type": "code",
   "execution_count": 230,
   "id": "277597bf-7ddf-42fe-89d3-ace6b6a2aac8",
   "metadata": {},
   "outputs": [],
   "source": [
    "dDentista[\"idade\"] = np.floor((hoje - dDentista[\"data_nascimento\"]).dt.days / 365)"
   ]
  },
  {
   "cell_type": "code",
   "execution_count": 231,
   "id": "01bacb63-dbc5-49df-9a9c-2557592962ba",
   "metadata": {},
   "outputs": [],
   "source": [
    "#Calculando anos de formado"
   ]
  },
  {
   "cell_type": "code",
   "execution_count": 232,
   "id": "ada956fb-01fd-49b3-9645-be586b3fd013",
   "metadata": {},
   "outputs": [],
   "source": [
    "dDentista[\"anos_formado\"] = np.floor((hoje.year - dDentista[\"ano_formacao\"]))"
   ]
  },
  {
   "cell_type": "code",
   "execution_count": 233,
   "id": "e3254d93-4397-43d8-8372-d4d9522eaa96",
   "metadata": {},
   "outputs": [],
   "source": [
    "#Criando coluna de faixa_etaria_dentista"
   ]
  },
  {
   "cell_type": "code",
   "execution_count": 234,
   "id": "3d3e6ea9-3ca7-413d-8f67-6e044a4b09cc",
   "metadata": {},
   "outputs": [],
   "source": [
    "#\"32-38\"\n",
    "#\"38-44\"\n",
    "#\"44-50\"\n",
    "\n",
    "delimitador = [31, 38, 44, 51]\n",
    "rotulos = [\"32-38\", \"38-44\", \"44-50\"]"
   ]
  },
  {
   "cell_type": "code",
   "execution_count": 235,
   "id": "df63cdcf-d105-40da-ba22-03828714a25f",
   "metadata": {},
   "outputs": [],
   "source": [
    "dDentista[\"fx_etaria_dentista\"] = pd.cut(\n",
    "    dDentista[\"idade\"],\n",
    "    bins=delimitador,\n",
    "    labels=rotulos,\n",
    "    right=False\n",
    ")"
   ]
  },
  {
   "cell_type": "code",
   "execution_count": 236,
   "id": "27c96d1e-1deb-421a-96d8-187955dab5ba",
   "metadata": {},
   "outputs": [],
   "source": [
    "#Criando coluna de faixa_etaria_anos_formado"
   ]
  },
  {
   "cell_type": "code",
   "execution_count": 237,
   "id": "17b6704c-c02c-454f-a606-f51880e56374",
   "metadata": {},
   "outputs": [],
   "source": [
    "#\"9-15\"\n",
    "#\"15-21\"\n",
    "#\"21-27\"\n",
    "\n",
    "v2_delimitador = [8, 15, 21, 28]\n",
    "v2_rotulos = [\"9-15\", \"15-21\", \"21-27\"]"
   ]
  },
  {
   "cell_type": "code",
   "execution_count": 238,
   "id": "bbe3a3de-e0c6-477c-92fd-2a0f20f352e2",
   "metadata": {},
   "outputs": [],
   "source": [
    "dDentista[\"fx_etaria_anos_formado\"] = pd.cut(\n",
    "    dDentista[\"anos_formado\"],\n",
    "    bins=v2_delimitador,\n",
    "    labels=v2_rotulos,\n",
    "    right=False\n",
    ")"
   ]
  },
  {
   "cell_type": "code",
   "execution_count": 239,
   "id": "b9dff699-0d45-4032-8bdc-c5cad27a2d04",
   "metadata": {},
   "outputs": [],
   "source": [
    "#Renomeando colunas"
   ]
  },
  {
   "cell_type": "code",
   "execution_count": 240,
   "id": "42baea65-529a-4c79-8db3-111808d06444",
   "metadata": {},
   "outputs": [],
   "source": [
    "dDentista = dDentista.rename(columns={\n",
    "    \"nome_dentista\" : \"nome\",\n",
    "    \"especialidade_dentista\" : \"especialidade\"\n",
    "})"
   ]
  },
  {
   "cell_type": "code",
   "execution_count": 241,
   "id": "74ce7622-7f64-4cf2-97cc-e6852ed47100",
   "metadata": {},
   "outputs": [],
   "source": [
    "#Ajustando ordem das colunas"
   ]
  },
  {
   "cell_type": "code",
   "execution_count": 242,
   "id": "d8d6bcbf-734a-445f-bcad-808de28b779c",
   "metadata": {},
   "outputs": [],
   "source": [
    "dDentista = dDentista.reindex(\n",
    "    columns=[\n",
    "        \"nome\", \n",
    "        \"sexo\",\n",
    "        \"especialidade\", \n",
    "        \"data_nascimento\", \n",
    "        \"idade\", \n",
    "        \"fx_etaria_dentista\", \n",
    "        \"ano_formacao\", \n",
    "        \"anos_formado\", \n",
    "        \"fx_etaria_anos_formado\"\n",
    "    ]\n",
    ")"
   ]
  },
  {
   "cell_type": "code",
   "execution_count": 243,
   "id": "60c63232-8a61-41af-8b5f-c68c0e3bf966",
   "metadata": {},
   "outputs": [],
   "source": [
    "#Checando conformidade de tipo de dados"
   ]
  },
  {
   "cell_type": "code",
   "execution_count": 244,
   "id": "696b05cc-cbdf-4ed3-bc34-6604f9d7d8b5",
   "metadata": {},
   "outputs": [
    {
     "data": {
      "text/plain": [
       "nome                              object\n",
       "sexo                              object\n",
       "especialidade                     object\n",
       "data_nascimento           datetime64[ns]\n",
       "idade                            float64\n",
       "fx_etaria_dentista              category\n",
       "ano_formacao                       int64\n",
       "anos_formado                     float64\n",
       "fx_etaria_anos_formado          category\n",
       "dtype: object"
      ]
     },
     "execution_count": 244,
     "metadata": {},
     "output_type": "execute_result"
    }
   ],
   "source": [
    "dDentista.dtypes"
   ]
  },
  {
   "cell_type": "code",
   "execution_count": 245,
   "id": "a5ae9cc7-4646-4da0-9feb-e02e58b0e07c",
   "metadata": {},
   "outputs": [],
   "source": [
    "#Checando dados nulos"
   ]
  },
  {
   "cell_type": "code",
   "execution_count": 246,
   "id": "52ffebd8-3b06-4b46-b9e5-5863c0a398b6",
   "metadata": {},
   "outputs": [
    {
     "data": {
      "text/plain": [
       "nome                      0\n",
       "sexo                      0\n",
       "especialidade             0\n",
       "data_nascimento           0\n",
       "idade                     0\n",
       "fx_etaria_dentista        0\n",
       "ano_formacao              0\n",
       "anos_formado              0\n",
       "fx_etaria_anos_formado    0\n",
       "dtype: int64"
      ]
     },
     "execution_count": 246,
     "metadata": {},
     "output_type": "execute_result"
    }
   ],
   "source": [
    "dDentista.isna().sum()"
   ]
  },
  {
   "cell_type": "code",
   "execution_count": 247,
   "id": "9bd64ea3-c8f7-4973-af5f-60d7f51b8c05",
   "metadata": {},
   "outputs": [],
   "source": [
    "#Checando dados duplicados"
   ]
  },
  {
   "cell_type": "code",
   "execution_count": 248,
   "id": "a0657bb7-7d3d-4af6-8ef7-7548ccc67829",
   "metadata": {},
   "outputs": [
    {
     "data": {
      "text/plain": [
       "0"
      ]
     },
     "execution_count": 248,
     "metadata": {},
     "output_type": "execute_result"
    }
   ],
   "source": [
    "dDentista.duplicated().sum()"
   ]
  },
  {
   "cell_type": "code",
   "execution_count": 249,
   "id": "652ac8b9-d110-4c0a-a242-e2b43433d1dd",
   "metadata": {},
   "outputs": [
    {
     "data": {
      "text/html": [
       "<div>\n",
       "<style scoped>\n",
       "    .dataframe tbody tr th:only-of-type {\n",
       "        vertical-align: middle;\n",
       "    }\n",
       "\n",
       "    .dataframe tbody tr th {\n",
       "        vertical-align: top;\n",
       "    }\n",
       "\n",
       "    .dataframe thead th {\n",
       "        text-align: right;\n",
       "    }\n",
       "</style>\n",
       "<table border=\"1\" class=\"dataframe\">\n",
       "  <thead>\n",
       "    <tr style=\"text-align: right;\">\n",
       "      <th></th>\n",
       "      <th>nome</th>\n",
       "      <th>sexo</th>\n",
       "      <th>especialidade</th>\n",
       "      <th>data_nascimento</th>\n",
       "      <th>idade</th>\n",
       "      <th>fx_etaria_dentista</th>\n",
       "      <th>ano_formacao</th>\n",
       "      <th>anos_formado</th>\n",
       "      <th>fx_etaria_anos_formado</th>\n",
       "    </tr>\n",
       "    <tr>\n",
       "      <th>id_dentista</th>\n",
       "      <th></th>\n",
       "      <th></th>\n",
       "      <th></th>\n",
       "      <th></th>\n",
       "      <th></th>\n",
       "      <th></th>\n",
       "      <th></th>\n",
       "      <th></th>\n",
       "      <th></th>\n",
       "    </tr>\n",
       "  </thead>\n",
       "  <tbody>\n",
       "    <tr>\n",
       "      <th>1</th>\n",
       "      <td>JOÃO SILVA</td>\n",
       "      <td>M</td>\n",
       "      <td>ENDODONTIA</td>\n",
       "      <td>1985-04-15</td>\n",
       "      <td>39.0</td>\n",
       "      <td>38-44</td>\n",
       "      <td>2010</td>\n",
       "      <td>14.0</td>\n",
       "      <td>9-15</td>\n",
       "    </tr>\n",
       "    <tr>\n",
       "      <th>2</th>\n",
       "      <td>MARIA SANTOS</td>\n",
       "      <td>F</td>\n",
       "      <td>DENTÍSTICA</td>\n",
       "      <td>1988-09-20</td>\n",
       "      <td>35.0</td>\n",
       "      <td>32-38</td>\n",
       "      <td>2012</td>\n",
       "      <td>12.0</td>\n",
       "      <td>9-15</td>\n",
       "    </tr>\n",
       "    <tr>\n",
       "      <th>3</th>\n",
       "      <td>PEDRO OLIVEIRA</td>\n",
       "      <td>M</td>\n",
       "      <td>PRÓTESE</td>\n",
       "      <td>1980-12-10</td>\n",
       "      <td>43.0</td>\n",
       "      <td>38-44</td>\n",
       "      <td>2005</td>\n",
       "      <td>19.0</td>\n",
       "      <td>15-21</td>\n",
       "    </tr>\n",
       "    <tr>\n",
       "      <th>4</th>\n",
       "      <td>ANA COSTA</td>\n",
       "      <td>F</td>\n",
       "      <td>PERIODONTIA</td>\n",
       "      <td>1976-07-25</td>\n",
       "      <td>47.0</td>\n",
       "      <td>44-50</td>\n",
       "      <td>2000</td>\n",
       "      <td>24.0</td>\n",
       "      <td>21-27</td>\n",
       "    </tr>\n",
       "    <tr>\n",
       "      <th>5</th>\n",
       "      <td>LUIZ PEREIRA</td>\n",
       "      <td>M</td>\n",
       "      <td>CIRURGIA</td>\n",
       "      <td>1983-03-30</td>\n",
       "      <td>41.0</td>\n",
       "      <td>38-44</td>\n",
       "      <td>2008</td>\n",
       "      <td>16.0</td>\n",
       "      <td>15-21</td>\n",
       "    </tr>\n",
       "  </tbody>\n",
       "</table>\n",
       "</div>"
      ],
      "text/plain": [
       "                       nome sexo especialidade data_nascimento  idade  \\\n",
       "id_dentista                                                             \n",
       "1                JOÃO SILVA    M    ENDODONTIA      1985-04-15   39.0   \n",
       "2              MARIA SANTOS    F    DENTÍSTICA      1988-09-20   35.0   \n",
       "3            PEDRO OLIVEIRA    M       PRÓTESE      1980-12-10   43.0   \n",
       "4                 ANA COSTA    F   PERIODONTIA      1976-07-25   47.0   \n",
       "5              LUIZ PEREIRA    M      CIRURGIA      1983-03-30   41.0   \n",
       "\n",
       "            fx_etaria_dentista  ano_formacao  anos_formado  \\\n",
       "id_dentista                                                  \n",
       "1                        38-44          2010          14.0   \n",
       "2                        32-38          2012          12.0   \n",
       "3                        38-44          2005          19.0   \n",
       "4                        44-50          2000          24.0   \n",
       "5                        38-44          2008          16.0   \n",
       "\n",
       "            fx_etaria_anos_formado  \n",
       "id_dentista                         \n",
       "1                             9-15  \n",
       "2                             9-15  \n",
       "3                            15-21  \n",
       "4                            21-27  \n",
       "5                            15-21  "
      ]
     },
     "execution_count": 249,
     "metadata": {},
     "output_type": "execute_result"
    }
   ],
   "source": [
    "dDentista.head(5)"
   ]
  },
  {
   "cell_type": "code",
   "execution_count": 250,
   "id": "e9304ce7-0463-4b4b-9174-addf98800e59",
   "metadata": {},
   "outputs": [],
   "source": [
    "## -- dDentista FINALIZADA --"
   ]
  },
  {
   "cell_type": "code",
   "execution_count": 251,
   "id": "f419b73d-7ea8-4d69-8cd1-154fa6a1f610",
   "metadata": {},
   "outputs": [],
   "source": [
    "#TRATAND FMETAS"
   ]
  },
  {
   "cell_type": "code",
   "execution_count": 252,
   "id": "d2b9ec5c-1074-4b92-bbd0-1d3dbcad3b7e",
   "metadata": {},
   "outputs": [],
   "source": [
    "#Excluindo coluna \"Unnamed: 0\""
   ]
  },
  {
   "cell_type": "code",
   "execution_count": 253,
   "id": "17ed6e11-9eb1-40cc-a413-78765069bb5c",
   "metadata": {},
   "outputs": [],
   "source": [
    "fMetas.drop(columns=\"Unnamed: 0\", inplace=True)"
   ]
  },
  {
   "cell_type": "code",
   "execution_count": 254,
   "id": "4180cf79-431a-4f93-94f0-08b28a77b8de",
   "metadata": {},
   "outputs": [],
   "source": [
    "#Transformando linhas em colunas"
   ]
  },
  {
   "cell_type": "code",
   "execution_count": 255,
   "id": "ff3098e3-3299-4cef-ae99-65125af3bd23",
   "metadata": {},
   "outputs": [],
   "source": [
    "fMetas = fMetas.melt(id_vars=\"cdVendedor\", var_name=\"Data\", value_name=\"Valor\")"
   ]
  },
  {
   "cell_type": "code",
   "execution_count": 256,
   "id": "66d410fd-b88f-4355-8561-c84b7e0cc07b",
   "metadata": {},
   "outputs": [
    {
     "data": {
      "text/html": [
       "<div>\n",
       "<style scoped>\n",
       "    .dataframe tbody tr th:only-of-type {\n",
       "        vertical-align: middle;\n",
       "    }\n",
       "\n",
       "    .dataframe tbody tr th {\n",
       "        vertical-align: top;\n",
       "    }\n",
       "\n",
       "    .dataframe thead th {\n",
       "        text-align: right;\n",
       "    }\n",
       "</style>\n",
       "<table border=\"1\" class=\"dataframe\">\n",
       "  <thead>\n",
       "    <tr style=\"text-align: right;\">\n",
       "      <th></th>\n",
       "      <th>cdVendedor</th>\n",
       "      <th>Data</th>\n",
       "      <th>Valor</th>\n",
       "    </tr>\n",
       "  </thead>\n",
       "  <tbody>\n",
       "    <tr>\n",
       "      <th>0</th>\n",
       "      <td>1</td>\n",
       "      <td>2022-01-01 00:00:00</td>\n",
       "      <td>10000.0</td>\n",
       "    </tr>\n",
       "    <tr>\n",
       "      <th>1</th>\n",
       "      <td>2</td>\n",
       "      <td>2022-01-01 00:00:00</td>\n",
       "      <td>9000.0</td>\n",
       "    </tr>\n",
       "    <tr>\n",
       "      <th>2</th>\n",
       "      <td>3</td>\n",
       "      <td>2022-01-01 00:00:00</td>\n",
       "      <td>8000.0</td>\n",
       "    </tr>\n",
       "    <tr>\n",
       "      <th>3</th>\n",
       "      <td>4</td>\n",
       "      <td>2022-01-01 00:00:00</td>\n",
       "      <td>7000.0</td>\n",
       "    </tr>\n",
       "    <tr>\n",
       "      <th>4</th>\n",
       "      <td>5</td>\n",
       "      <td>2022-01-01 00:00:00</td>\n",
       "      <td>11000.0</td>\n",
       "    </tr>\n",
       "    <tr>\n",
       "      <th>5</th>\n",
       "      <td>6</td>\n",
       "      <td>2022-01-01 00:00:00</td>\n",
       "      <td>12000.0</td>\n",
       "    </tr>\n",
       "    <tr>\n",
       "      <th>6</th>\n",
       "      <td>7</td>\n",
       "      <td>2022-01-01 00:00:00</td>\n",
       "      <td>9500.0</td>\n",
       "    </tr>\n",
       "    <tr>\n",
       "      <th>7</th>\n",
       "      <td>8</td>\n",
       "      <td>2022-01-01 00:00:00</td>\n",
       "      <td>8500.0</td>\n",
       "    </tr>\n",
       "    <tr>\n",
       "      <th>8</th>\n",
       "      <td>9</td>\n",
       "      <td>2022-01-01 00:00:00</td>\n",
       "      <td>7500.0</td>\n",
       "    </tr>\n",
       "    <tr>\n",
       "      <th>9</th>\n",
       "      <td>10</td>\n",
       "      <td>2022-01-01 00:00:00</td>\n",
       "      <td>6500.0</td>\n",
       "    </tr>\n",
       "    <tr>\n",
       "      <th>10</th>\n",
       "      <td>11</td>\n",
       "      <td>2022-01-01 00:00:00</td>\n",
       "      <td>10500.0</td>\n",
       "    </tr>\n",
       "    <tr>\n",
       "      <th>11</th>\n",
       "      <td>12</td>\n",
       "      <td>2022-01-01 00:00:00</td>\n",
       "      <td>11500.0</td>\n",
       "    </tr>\n",
       "    <tr>\n",
       "      <th>12</th>\n",
       "      <td>13</td>\n",
       "      <td>2022-01-01 00:00:00</td>\n",
       "      <td>12500.0</td>\n",
       "    </tr>\n",
       "    <tr>\n",
       "      <th>13</th>\n",
       "      <td>14</td>\n",
       "      <td>2022-01-01 00:00:00</td>\n",
       "      <td>13500.0</td>\n",
       "    </tr>\n",
       "    <tr>\n",
       "      <th>14</th>\n",
       "      <td>15</td>\n",
       "      <td>2022-01-01 00:00:00</td>\n",
       "      <td>9500.0</td>\n",
       "    </tr>\n",
       "  </tbody>\n",
       "</table>\n",
       "</div>"
      ],
      "text/plain": [
       "    cdVendedor                 Data    Valor\n",
       "0            1  2022-01-01 00:00:00  10000.0\n",
       "1            2  2022-01-01 00:00:00   9000.0\n",
       "2            3  2022-01-01 00:00:00   8000.0\n",
       "3            4  2022-01-01 00:00:00   7000.0\n",
       "4            5  2022-01-01 00:00:00  11000.0\n",
       "5            6  2022-01-01 00:00:00  12000.0\n",
       "6            7  2022-01-01 00:00:00   9500.0\n",
       "7            8  2022-01-01 00:00:00   8500.0\n",
       "8            9  2022-01-01 00:00:00   7500.0\n",
       "9           10  2022-01-01 00:00:00   6500.0\n",
       "10          11  2022-01-01 00:00:00  10500.0\n",
       "11          12  2022-01-01 00:00:00  11500.0\n",
       "12          13  2022-01-01 00:00:00  12500.0\n",
       "13          14  2022-01-01 00:00:00  13500.0\n",
       "14          15  2022-01-01 00:00:00   9500.0"
      ]
     },
     "execution_count": 256,
     "metadata": {},
     "output_type": "execute_result"
    }
   ],
   "source": [
    "fMetas.head(15)"
   ]
  },
  {
   "cell_type": "code",
   "execution_count": 257,
   "id": "295b599a-e314-4b2a-b737-02d39a482121",
   "metadata": {},
   "outputs": [],
   "source": [
    "#Checando conformidade de tipo de dados"
   ]
  },
  {
   "cell_type": "code",
   "execution_count": 258,
   "id": "a9270cce-5527-40b7-bcee-70496d93af53",
   "metadata": {},
   "outputs": [
    {
     "data": {
      "text/plain": [
       "cdVendedor      int64\n",
       "Data           object\n",
       "Valor         float64\n",
       "dtype: object"
      ]
     },
     "execution_count": 258,
     "metadata": {},
     "output_type": "execute_result"
    }
   ],
   "source": [
    "fMetas.dtypes"
   ]
  },
  {
   "cell_type": "code",
   "execution_count": 259,
   "id": "28f991d5-385f-40f8-866a-58f6eb763705",
   "metadata": {},
   "outputs": [],
   "source": [
    "#Alterando tipo de dado da coluna \"data\" para datetime"
   ]
  },
  {
   "cell_type": "code",
   "execution_count": 260,
   "id": "d39c42ab-d199-4770-a00b-13e32d7eac84",
   "metadata": {},
   "outputs": [],
   "source": [
    "fMetas[\"Data\"] = fMetas[\"Data\"].astype(\"datetime64[ns]\")"
   ]
  },
  {
   "cell_type": "code",
   "execution_count": 261,
   "id": "f039412e-0ae9-40e9-86af-0b743f6e69f4",
   "metadata": {},
   "outputs": [
    {
     "data": {
      "text/plain": [
       "cdVendedor             int64\n",
       "Data          datetime64[ns]\n",
       "Valor                float64\n",
       "dtype: object"
      ]
     },
     "execution_count": 261,
     "metadata": {},
     "output_type": "execute_result"
    }
   ],
   "source": [
    "fMetas.dtypes"
   ]
  },
  {
   "cell_type": "code",
   "execution_count": 262,
   "id": "bcb78fbf-7eec-498f-a28f-b4b0f7077b76",
   "metadata": {},
   "outputs": [],
   "source": [
    "#Checando dados nulos"
   ]
  },
  {
   "cell_type": "code",
   "execution_count": 263,
   "id": "e2609304-5291-4cf0-b6ee-cab82395e646",
   "metadata": {},
   "outputs": [
    {
     "data": {
      "text/plain": [
       "cdVendedor    0\n",
       "Data          0\n",
       "Valor         0\n",
       "dtype: int64"
      ]
     },
     "execution_count": 263,
     "metadata": {},
     "output_type": "execute_result"
    }
   ],
   "source": [
    "fMetas.isna().sum()"
   ]
  },
  {
   "cell_type": "code",
   "execution_count": 264,
   "id": "a79e0f88-2a42-47fe-8360-d53c0714f578",
   "metadata": {},
   "outputs": [],
   "source": [
    "#Checando dados duplicados"
   ]
  },
  {
   "cell_type": "code",
   "execution_count": 265,
   "id": "f12d47c9-f2a2-43b9-a88c-b7f4c54446a5",
   "metadata": {},
   "outputs": [
    {
     "data": {
      "text/plain": [
       "0"
      ]
     },
     "execution_count": 265,
     "metadata": {},
     "output_type": "execute_result"
    }
   ],
   "source": [
    "fMetas.duplicated().sum()"
   ]
  },
  {
   "cell_type": "code",
   "execution_count": 266,
   "id": "e1f2ea42-a3e2-4a96-acad-8c2fe83205b0",
   "metadata": {},
   "outputs": [],
   "source": [
    "# TRATANDO FVENDAS"
   ]
  },
  {
   "cell_type": "code",
   "execution_count": 267,
   "id": "abaa4839-a4f7-4db1-99f2-ed4f87250c91",
   "metadata": {},
   "outputs": [],
   "source": [
    "#Ajustando indice para nfe"
   ]
  },
  {
   "cell_type": "code",
   "execution_count": 268,
   "id": "8839297f-8a0f-4ae0-ae3b-9e6a0628b1e7",
   "metadata": {},
   "outputs": [],
   "source": [
    "fVendas.set_index(\"nfe\", inplace=True)"
   ]
  },
  {
   "cell_type": "code",
   "execution_count": 269,
   "id": "fe7ca21e-b41e-4c60-ac72-c95931dd788b",
   "metadata": {},
   "outputs": [],
   "source": [
    "#Colocando letras em maiusuculo"
   ]
  },
  {
   "cell_type": "code",
   "execution_count": 270,
   "id": "326f5236-4d73-4d41-a2d9-a28f879d5e09",
   "metadata": {},
   "outputs": [],
   "source": [
    "for coluna in fVendas:\n",
    "    if fVendas[coluna].dtypes == \"object\":\n",
    "        fVendas[coluna] = fVendas[coluna].str.upper()"
   ]
  },
  {
   "cell_type": "code",
   "execution_count": 271,
   "id": "8683c484-eb44-40dd-a32f-7de6150db4b8",
   "metadata": {},
   "outputs": [],
   "source": [
    "#Excluindo coluna qtd_parcelamento"
   ]
  },
  {
   "cell_type": "code",
   "execution_count": 272,
   "id": "4c06acc0-9f4a-44ca-8c5a-e408c2221276",
   "metadata": {},
   "outputs": [],
   "source": [
    "fVendas.drop(columns=\"qtd_parcelamento\", inplace=True)"
   ]
  },
  {
   "cell_type": "code",
   "execution_count": null,
   "id": "67150dc6-ec16-4f73-b9c0-09a03f576115",
   "metadata": {},
   "outputs": [],
   "source": [
    "#Excluindo colunas \"Unnamed: 11 e Unnamed: 12\""
   ]
  },
  {
   "cell_type": "code",
   "execution_count": 283,
   "id": "3d7a0f43-c2a0-4b4d-804a-c7eb9ba1afc4",
   "metadata": {},
   "outputs": [],
   "source": [
    "fVendas.drop(columns=[\"Unnamed: 11\", \"Unnamed: 12\"], inplace=True)"
   ]
  },
  {
   "cell_type": "code",
   "execution_count": 273,
   "id": "2ab6a5de-e3d2-4084-93db-5892a75fe4ce",
   "metadata": {},
   "outputs": [],
   "source": [
    "#Checando valores nulos"
   ]
  },
  {
   "cell_type": "code",
   "execution_count": 284,
   "id": "87ccb446-d3e1-4c57-bb4e-2f3d8c69a543",
   "metadata": {},
   "outputs": [
    {
     "data": {
      "text/plain": [
       "data               0\n",
       "id_cliente         0\n",
       "id_procedimento    0\n",
       "id_vendedor        0\n",
       "id_clinica         0\n",
       "id_dentista        0\n",
       "qtd_vendida        0\n",
       "valor_desconto     0\n",
       "forma_pagamento    0\n",
       "dtype: int64"
      ]
     },
     "execution_count": 284,
     "metadata": {},
     "output_type": "execute_result"
    }
   ],
   "source": [
    "fVendas.isna().sum()"
   ]
  },
  {
   "cell_type": "code",
   "execution_count": 275,
   "id": "55aeaaa2-decb-4a95-b9a7-9e7380abb182",
   "metadata": {},
   "outputs": [],
   "source": [
    "#Checando valores duplicados"
   ]
  },
  {
   "cell_type": "code",
   "execution_count": 285,
   "id": "61c142ab-6b58-43f9-bb0c-f03a80502d3e",
   "metadata": {},
   "outputs": [
    {
     "data": {
      "text/plain": [
       "0"
      ]
     },
     "execution_count": 285,
     "metadata": {},
     "output_type": "execute_result"
    }
   ],
   "source": [
    "fVendas.duplicated().sum()"
   ]
  },
  {
   "cell_type": "code",
   "execution_count": 277,
   "id": "b7f10798-3aad-4631-b00c-61448b201fce",
   "metadata": {},
   "outputs": [],
   "source": [
    "#Checando conformidade de tipos de dados"
   ]
  },
  {
   "cell_type": "code",
   "execution_count": 286,
   "id": "3ba071c0-0c72-4e76-be71-a89e57a18ac2",
   "metadata": {},
   "outputs": [
    {
     "data": {
      "text/plain": [
       "data               datetime64[ns]\n",
       "id_cliente                  int64\n",
       "id_procedimento             int64\n",
       "id_vendedor                 int64\n",
       "id_clinica                  int64\n",
       "id_dentista                 int64\n",
       "qtd_vendida                 int64\n",
       "valor_desconto            float64\n",
       "forma_pagamento            object\n",
       "dtype: object"
      ]
     },
     "execution_count": 286,
     "metadata": {},
     "output_type": "execute_result"
    }
   ],
   "source": [
    "fVendas.dtypes"
   ]
  },
  {
   "cell_type": "code",
   "execution_count": 287,
   "id": "287ba901-2607-468f-86ca-8f900e3c152e",
   "metadata": {},
   "outputs": [
    {
     "data": {
      "text/html": [
       "<div>\n",
       "<style scoped>\n",
       "    .dataframe tbody tr th:only-of-type {\n",
       "        vertical-align: middle;\n",
       "    }\n",
       "\n",
       "    .dataframe tbody tr th {\n",
       "        vertical-align: top;\n",
       "    }\n",
       "\n",
       "    .dataframe thead th {\n",
       "        text-align: right;\n",
       "    }\n",
       "</style>\n",
       "<table border=\"1\" class=\"dataframe\">\n",
       "  <thead>\n",
       "    <tr style=\"text-align: right;\">\n",
       "      <th></th>\n",
       "      <th>data</th>\n",
       "      <th>id_cliente</th>\n",
       "      <th>id_procedimento</th>\n",
       "      <th>id_vendedor</th>\n",
       "      <th>id_clinica</th>\n",
       "      <th>id_dentista</th>\n",
       "      <th>qtd_vendida</th>\n",
       "      <th>valor_desconto</th>\n",
       "      <th>forma_pagamento</th>\n",
       "    </tr>\n",
       "    <tr>\n",
       "      <th>nfe</th>\n",
       "      <th></th>\n",
       "      <th></th>\n",
       "      <th></th>\n",
       "      <th></th>\n",
       "      <th></th>\n",
       "      <th></th>\n",
       "      <th></th>\n",
       "      <th></th>\n",
       "      <th></th>\n",
       "    </tr>\n",
       "  </thead>\n",
       "  <tbody>\n",
       "    <tr>\n",
       "      <th>1</th>\n",
       "      <td>2022-01-03</td>\n",
       "      <td>396</td>\n",
       "      <td>11</td>\n",
       "      <td>18</td>\n",
       "      <td>9</td>\n",
       "      <td>42</td>\n",
       "      <td>2</td>\n",
       "      <td>10.0</td>\n",
       "      <td>DINHEIRO</td>\n",
       "    </tr>\n",
       "    <tr>\n",
       "      <th>2</th>\n",
       "      <td>2022-01-03</td>\n",
       "      <td>844</td>\n",
       "      <td>4</td>\n",
       "      <td>4</td>\n",
       "      <td>2</td>\n",
       "      <td>90</td>\n",
       "      <td>2</td>\n",
       "      <td>5.5</td>\n",
       "      <td>DINHEIRO</td>\n",
       "    </tr>\n",
       "    <tr>\n",
       "      <th>3</th>\n",
       "      <td>2022-01-03</td>\n",
       "      <td>713</td>\n",
       "      <td>20</td>\n",
       "      <td>10</td>\n",
       "      <td>5</td>\n",
       "      <td>100</td>\n",
       "      <td>2</td>\n",
       "      <td>2.0</td>\n",
       "      <td>CARTAO</td>\n",
       "    </tr>\n",
       "    <tr>\n",
       "      <th>4</th>\n",
       "      <td>2022-01-03</td>\n",
       "      <td>388</td>\n",
       "      <td>16</td>\n",
       "      <td>5</td>\n",
       "      <td>3</td>\n",
       "      <td>39</td>\n",
       "      <td>3</td>\n",
       "      <td>0.5</td>\n",
       "      <td>PIX</td>\n",
       "    </tr>\n",
       "    <tr>\n",
       "      <th>5</th>\n",
       "      <td>2022-01-03</td>\n",
       "      <td>706</td>\n",
       "      <td>22</td>\n",
       "      <td>5</td>\n",
       "      <td>3</td>\n",
       "      <td>2</td>\n",
       "      <td>3</td>\n",
       "      <td>6.0</td>\n",
       "      <td>DINHEIRO</td>\n",
       "    </tr>\n",
       "    <tr>\n",
       "      <th>...</th>\n",
       "      <td>...</td>\n",
       "      <td>...</td>\n",
       "      <td>...</td>\n",
       "      <td>...</td>\n",
       "      <td>...</td>\n",
       "      <td>...</td>\n",
       "      <td>...</td>\n",
       "      <td>...</td>\n",
       "      <td>...</td>\n",
       "    </tr>\n",
       "    <tr>\n",
       "      <th>4996</th>\n",
       "      <td>2023-12-28</td>\n",
       "      <td>861</td>\n",
       "      <td>10</td>\n",
       "      <td>13</td>\n",
       "      <td>7</td>\n",
       "      <td>20</td>\n",
       "      <td>2</td>\n",
       "      <td>8.5</td>\n",
       "      <td>CARTAO</td>\n",
       "    </tr>\n",
       "    <tr>\n",
       "      <th>4997</th>\n",
       "      <td>2023-12-28</td>\n",
       "      <td>503</td>\n",
       "      <td>17</td>\n",
       "      <td>5</td>\n",
       "      <td>3</td>\n",
       "      <td>37</td>\n",
       "      <td>2</td>\n",
       "      <td>1.0</td>\n",
       "      <td>CARTAO</td>\n",
       "    </tr>\n",
       "    <tr>\n",
       "      <th>4998</th>\n",
       "      <td>2023-12-28</td>\n",
       "      <td>673</td>\n",
       "      <td>12</td>\n",
       "      <td>20</td>\n",
       "      <td>10</td>\n",
       "      <td>29</td>\n",
       "      <td>1</td>\n",
       "      <td>0.5</td>\n",
       "      <td>DINHEIRO</td>\n",
       "    </tr>\n",
       "    <tr>\n",
       "      <th>4999</th>\n",
       "      <td>2023-12-28</td>\n",
       "      <td>254</td>\n",
       "      <td>15</td>\n",
       "      <td>4</td>\n",
       "      <td>2</td>\n",
       "      <td>65</td>\n",
       "      <td>5</td>\n",
       "      <td>6.0</td>\n",
       "      <td>PIX</td>\n",
       "    </tr>\n",
       "    <tr>\n",
       "      <th>5000</th>\n",
       "      <td>2023-12-29</td>\n",
       "      <td>453</td>\n",
       "      <td>21</td>\n",
       "      <td>12</td>\n",
       "      <td>6</td>\n",
       "      <td>52</td>\n",
       "      <td>5</td>\n",
       "      <td>1.0</td>\n",
       "      <td>PIX</td>\n",
       "    </tr>\n",
       "  </tbody>\n",
       "</table>\n",
       "<p>5000 rows × 9 columns</p>\n",
       "</div>"
      ],
      "text/plain": [
       "           data  id_cliente  id_procedimento  id_vendedor  id_clinica  \\\n",
       "nfe                                                                     \n",
       "1    2022-01-03         396               11           18           9   \n",
       "2    2022-01-03         844                4            4           2   \n",
       "3    2022-01-03         713               20           10           5   \n",
       "4    2022-01-03         388               16            5           3   \n",
       "5    2022-01-03         706               22            5           3   \n",
       "...         ...         ...              ...          ...         ...   \n",
       "4996 2023-12-28         861               10           13           7   \n",
       "4997 2023-12-28         503               17            5           3   \n",
       "4998 2023-12-28         673               12           20          10   \n",
       "4999 2023-12-28         254               15            4           2   \n",
       "5000 2023-12-29         453               21           12           6   \n",
       "\n",
       "      id_dentista  qtd_vendida  valor_desconto forma_pagamento  \n",
       "nfe                                                             \n",
       "1              42            2            10.0        DINHEIRO  \n",
       "2              90            2             5.5        DINHEIRO  \n",
       "3             100            2             2.0          CARTAO  \n",
       "4              39            3             0.5             PIX  \n",
       "5               2            3             6.0        DINHEIRO  \n",
       "...           ...          ...             ...             ...  \n",
       "4996           20            2             8.5          CARTAO  \n",
       "4997           37            2             1.0          CARTAO  \n",
       "4998           29            1             0.5        DINHEIRO  \n",
       "4999           65            5             6.0             PIX  \n",
       "5000           52            5             1.0             PIX  \n",
       "\n",
       "[5000 rows x 9 columns]"
      ]
     },
     "execution_count": 287,
     "metadata": {},
     "output_type": "execute_result"
    }
   ],
   "source": [
    "fVendas"
   ]
  },
  {
   "cell_type": "code",
   "execution_count": 280,
   "id": "d161c2fa-584f-4451-9c28-302524676364",
   "metadata": {},
   "outputs": [],
   "source": [
    "lista_df = [dCliente, dProcedimento, dVendedor, dClinica, dDentista, fMetas, fVendas]\n",
    "nomenclatura_arquivos = [\"dCliente.csv\", \"dProcedimento.csv\", \"dVendedor.csv\", \"dClinica.csv\", \"dDentista.csv\", \"fMetas.csv\", \"fVendas.csv\"]"
   ]
  },
  {
   "cell_type": "code",
   "execution_count": 281,
   "id": "6e41ca9b-280a-4ae1-8795-0c036ed6ccac",
   "metadata": {},
   "outputs": [],
   "source": [
    "import os"
   ]
  },
  {
   "cell_type": "code",
   "execution_count": 282,
   "id": "86f31c41-a915-471c-94f2-648d750fb73f",
   "metadata": {},
   "outputs": [],
   "source": [
    "nome_pasta = \"PASTA_TESTE_PYTHON\"\n",
    "\n",
    "if not os.path.exists(nome_pasta):\n",
    "    os.makedirs(nome_pasta)\n",
    "    \n",
    "for df, nome_arquivo in zip(lista_df, nomenclatura_arquivos):\n",
    "    caminho_arquivo = os.path.join(nome_pasta, nome_arquivo)\n",
    "    df.to_csv(caminho_arquivo, index=False)"
   ]
  },
  {
   "cell_type": "code",
   "execution_count": null,
   "id": "7b3e28c7-bf3e-4400-ad18-5d06788efea3",
   "metadata": {},
   "outputs": [],
   "source": []
  }
 ],
 "metadata": {
  "kernelspec": {
   "display_name": "Python 3 (ipykernel)",
   "language": "python",
   "name": "python3"
  },
  "language_info": {
   "codemirror_mode": {
    "name": "ipython",
    "version": 3
   },
   "file_extension": ".py",
   "mimetype": "text/x-python",
   "name": "python",
   "nbconvert_exporter": "python",
   "pygments_lexer": "ipython3",
   "version": "3.12.1"
  }
 },
 "nbformat": 4,
 "nbformat_minor": 5
}
